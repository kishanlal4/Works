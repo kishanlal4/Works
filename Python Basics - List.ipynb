{
 "cells": [
  {
   "cell_type": "code",
   "execution_count": 1,
   "id": "e037afbe",
   "metadata": {},
   "outputs": [],
   "source": [
    "l = [\"kish\", \"lal\", \"352\", 4+6j, True, 345.56]"
   ]
  },
  {
   "cell_type": "code",
   "execution_count": 2,
   "id": "745192c8",
   "metadata": {},
   "outputs": [
    {
     "data": {
      "text/plain": [
       "list"
      ]
     },
     "execution_count": 2,
     "metadata": {},
     "output_type": "execute_result"
    }
   ],
   "source": [
    "type(l)"
   ]
  },
  {
   "cell_type": "code",
   "execution_count": 3,
   "id": "fe48e549",
   "metadata": {},
   "outputs": [
    {
     "data": {
      "text/plain": [
       "'kish'"
      ]
     },
     "execution_count": 3,
     "metadata": {},
     "output_type": "execute_result"
    }
   ],
   "source": [
    "l[0]"
   ]
  },
  {
   "cell_type": "code",
   "execution_count": 4,
   "id": "b46d76f5",
   "metadata": {},
   "outputs": [
    {
     "data": {
      "text/plain": [
       "345.56"
      ]
     },
     "execution_count": 4,
     "metadata": {},
     "output_type": "execute_result"
    }
   ],
   "source": [
    "l[-1]"
   ]
  },
  {
   "cell_type": "code",
   "execution_count": 5,
   "id": "f1fc7a4b",
   "metadata": {},
   "outputs": [
    {
     "data": {
      "text/plain": [
       "'lal'"
      ]
     },
     "execution_count": 5,
     "metadata": {},
     "output_type": "execute_result"
    }
   ],
   "source": [
    "l[-5]"
   ]
  },
  {
   "cell_type": "code",
   "execution_count": 6,
   "id": "0d558595",
   "metadata": {},
   "outputs": [
    {
     "data": {
      "text/plain": [
       "['kish', 'lal', '352', (4+6j)]"
      ]
     },
     "execution_count": 6,
     "metadata": {},
     "output_type": "execute_result"
    }
   ],
   "source": [
    "l[0:4]"
   ]
  },
  {
   "cell_type": "code",
   "execution_count": 9,
   "id": "03808a47",
   "metadata": {},
   "outputs": [
    {
     "data": {
      "text/plain": [
       "[345.56, True, (4+6j), '352', 'lal', 'kish']"
      ]
     },
     "execution_count": 9,
     "metadata": {},
     "output_type": "execute_result"
    }
   ],
   "source": [
    "l[::-1]"
   ]
  },
  {
   "cell_type": "code",
   "execution_count": 10,
   "id": "c362d552",
   "metadata": {},
   "outputs": [
    {
     "data": {
      "text/plain": [
       "['kish', 'lal', '352', (4+6j), True, 345.56]"
      ]
     },
     "execution_count": 10,
     "metadata": {},
     "output_type": "execute_result"
    }
   ],
   "source": [
    "l[::]"
   ]
  },
  {
   "cell_type": "code",
   "execution_count": 11,
   "id": "464bc4ee",
   "metadata": {},
   "outputs": [
    {
     "data": {
      "text/plain": [
       "[345.56]"
      ]
     },
     "execution_count": 11,
     "metadata": {},
     "output_type": "execute_result"
    }
   ],
   "source": [
    "l[-1:6]"
   ]
  },
  {
   "cell_type": "code",
   "execution_count": 12,
   "id": "34f7e6ff",
   "metadata": {},
   "outputs": [
    {
     "data": {
      "text/plain": [
       "str"
      ]
     },
     "execution_count": 12,
     "metadata": {},
     "output_type": "execute_result"
    }
   ],
   "source": [
    "type(l[0])"
   ]
  },
  {
   "cell_type": "code",
   "execution_count": 13,
   "id": "c6e3aea0",
   "metadata": {},
   "outputs": [
    {
     "data": {
      "text/plain": [
       "bool"
      ]
     },
     "execution_count": 13,
     "metadata": {},
     "output_type": "execute_result"
    }
   ],
   "source": [
    "type(l[4])"
   ]
  },
  {
   "cell_type": "code",
   "execution_count": 14,
   "id": "9ea0a7da",
   "metadata": {},
   "outputs": [
    {
     "data": {
      "text/plain": [
       "'i'"
      ]
     },
     "execution_count": 14,
     "metadata": {},
     "output_type": "execute_result"
    }
   ],
   "source": [
    "l[0][1]"
   ]
  },
  {
   "cell_type": "code",
   "execution_count": 15,
   "id": "108052c0",
   "metadata": {},
   "outputs": [
    {
     "data": {
      "text/plain": [
       "(4+6j)"
      ]
     },
     "execution_count": 15,
     "metadata": {},
     "output_type": "execute_result"
    }
   ],
   "source": [
    "l[3]"
   ]
  },
  {
   "cell_type": "code",
   "execution_count": 16,
   "id": "97e54491",
   "metadata": {},
   "outputs": [
    {
     "data": {
      "text/plain": [
       "4.0"
      ]
     },
     "execution_count": 16,
     "metadata": {},
     "output_type": "execute_result"
    }
   ],
   "source": [
    "l[3].real"
   ]
  },
  {
   "cell_type": "code",
   "execution_count": 17,
   "id": "14a9ca0b",
   "metadata": {},
   "outputs": [
    {
     "data": {
      "text/plain": [
       "6.0"
      ]
     },
     "execution_count": 17,
     "metadata": {},
     "output_type": "execute_result"
    }
   ],
   "source": [
    "l[3].imag"
   ]
  },
  {
   "cell_type": "code",
   "execution_count": 18,
   "id": "81f96286",
   "metadata": {},
   "outputs": [],
   "source": [
    "l1 = [\"kish\", \"lal\", 4562]\n",
    "l2= [\"xyz\",\"pqr\", 542.23]"
   ]
  },
  {
   "cell_type": "code",
   "execution_count": 19,
   "id": "1affc44e",
   "metadata": {},
   "outputs": [
    {
     "data": {
      "text/plain": [
       "['kish', 'lal', 4562, 'xyz', 'pqr', 542.23]"
      ]
     },
     "execution_count": 19,
     "metadata": {},
     "output_type": "execute_result"
    }
   ],
   "source": [
    "l1+l2"
   ]
  },
  {
   "cell_type": "code",
   "execution_count": 20,
   "id": "851b18be",
   "metadata": {},
   "outputs": [
    {
     "data": {
      "text/plain": [
       "['kish', 'lal', 4562, 'kish']"
      ]
     },
     "execution_count": 20,
     "metadata": {},
     "output_type": "execute_result"
    }
   ],
   "source": [
    "l1 + [\"kish\"]"
   ]
  },
  {
   "cell_type": "code",
   "execution_count": 22,
   "id": "50dcca3e",
   "metadata": {},
   "outputs": [
    {
     "data": {
      "text/plain": [
       "['kish', 'lal', 4562, 'kish', 'lal', 4562]"
      ]
     },
     "execution_count": 22,
     "metadata": {},
     "output_type": "execute_result"
    }
   ],
   "source": [
    "l1 *2"
   ]
  },
  {
   "cell_type": "code",
   "execution_count": 23,
   "id": "f8ed664d",
   "metadata": {},
   "outputs": [
    {
     "data": {
      "text/plain": [
       "['kish', 'lal', 4562]"
      ]
     },
     "execution_count": 23,
     "metadata": {},
     "output_type": "execute_result"
    }
   ],
   "source": [
    "l1"
   ]
  },
  {
   "cell_type": "code",
   "execution_count": 27,
   "id": "9c27aa4d",
   "metadata": {},
   "outputs": [],
   "source": [
    "l1[0] = \"kishan\""
   ]
  },
  {
   "cell_type": "code",
   "execution_count": 28,
   "id": "c9acac8e",
   "metadata": {},
   "outputs": [
    {
     "data": {
      "text/plain": [
       "['kishan', 'lal', 4562]"
      ]
     },
     "execution_count": 28,
     "metadata": {},
     "output_type": "execute_result"
    }
   ],
   "source": [
    "l1"
   ]
  },
  {
   "cell_type": "code",
   "execution_count": 29,
   "id": "02a6df9f",
   "metadata": {},
   "outputs": [
    {
     "data": {
      "text/plain": [
       "'lal'"
      ]
     },
     "execution_count": 29,
     "metadata": {},
     "output_type": "execute_result"
    }
   ],
   "source": [
    "l1[1]"
   ]
  },
  {
   "cell_type": "code",
   "execution_count": 31,
   "id": "29244d51",
   "metadata": {},
   "outputs": [
    {
     "data": {
      "text/plain": [
       "'l'"
      ]
     },
     "execution_count": 31,
     "metadata": {},
     "output_type": "execute_result"
    }
   ],
   "source": [
    "l1[1][0]"
   ]
  },
  {
   "cell_type": "code",
   "execution_count": 32,
   "id": "b1f4e9ef",
   "metadata": {},
   "outputs": [
    {
     "data": {
      "text/plain": [
       "3"
      ]
     },
     "execution_count": 32,
     "metadata": {},
     "output_type": "execute_result"
    }
   ],
   "source": [
    "len(l1)"
   ]
  },
  {
   "cell_type": "code",
   "execution_count": 33,
   "id": "b3f866e5",
   "metadata": {},
   "outputs": [
    {
     "data": {
      "text/plain": [
       "True"
      ]
     },
     "execution_count": 33,
     "metadata": {},
     "output_type": "execute_result"
    }
   ],
   "source": [
    "\"kishan\" in l1"
   ]
  },
  {
   "cell_type": "code",
   "execution_count": 34,
   "id": "661bb3db",
   "metadata": {},
   "outputs": [
    {
     "data": {
      "text/plain": [
       "['xyz', 'pqr', 542.23]"
      ]
     },
     "execution_count": 34,
     "metadata": {},
     "output_type": "execute_result"
    }
   ],
   "source": [
    "l2"
   ]
  },
  {
   "cell_type": "code",
   "execution_count": 35,
   "id": "484f3c81",
   "metadata": {},
   "outputs": [],
   "source": [
    "l2.append(\"kish\")"
   ]
  },
  {
   "cell_type": "code",
   "execution_count": 36,
   "id": "5d30503f",
   "metadata": {},
   "outputs": [
    {
     "data": {
      "text/plain": [
       "['xyz', 'pqr', 542.23, 'kish']"
      ]
     },
     "execution_count": 36,
     "metadata": {},
     "output_type": "execute_result"
    }
   ],
   "source": [
    "l2"
   ]
  },
  {
   "cell_type": "code",
   "execution_count": 37,
   "id": "d8f06fd5",
   "metadata": {},
   "outputs": [
    {
     "data": {
      "text/plain": [
       "'kish'"
      ]
     },
     "execution_count": 37,
     "metadata": {},
     "output_type": "execute_result"
    }
   ],
   "source": [
    "l2.pop()"
   ]
  },
  {
   "cell_type": "code",
   "execution_count": 38,
   "id": "90ead2a3",
   "metadata": {},
   "outputs": [
    {
     "data": {
      "text/plain": [
       "542.23"
      ]
     },
     "execution_count": 38,
     "metadata": {},
     "output_type": "execute_result"
    }
   ],
   "source": [
    "l2.pop(2)"
   ]
  },
  {
   "cell_type": "code",
   "execution_count": 39,
   "id": "fc27874a",
   "metadata": {},
   "outputs": [
    {
     "data": {
      "text/plain": [
       "['xyz', 'pqr']"
      ]
     },
     "execution_count": 39,
     "metadata": {},
     "output_type": "execute_result"
    }
   ],
   "source": [
    "l2"
   ]
  },
  {
   "cell_type": "code",
   "execution_count": 40,
   "id": "f0c52f7e",
   "metadata": {},
   "outputs": [],
   "source": [
    "l2.append(54545)"
   ]
  },
  {
   "cell_type": "code",
   "execution_count": 41,
   "id": "bbe65415",
   "metadata": {},
   "outputs": [
    {
     "data": {
      "text/plain": [
       "['xyz', 'pqr', 54545]"
      ]
     },
     "execution_count": 41,
     "metadata": {},
     "output_type": "execute_result"
    }
   ],
   "source": [
    "l2"
   ]
  },
  {
   "cell_type": "code",
   "execution_count": 42,
   "id": "2d8e396b",
   "metadata": {},
   "outputs": [],
   "source": [
    "l2.insert(1,\"ksjdh\")"
   ]
  },
  {
   "cell_type": "code",
   "execution_count": 43,
   "id": "490a2422",
   "metadata": {},
   "outputs": [
    {
     "data": {
      "text/plain": [
       "['xyz', 'ksjdh', 'pqr', 54545]"
      ]
     },
     "execution_count": 43,
     "metadata": {},
     "output_type": "execute_result"
    }
   ],
   "source": [
    "l2"
   ]
  },
  {
   "cell_type": "code",
   "execution_count": 44,
   "id": "a8cc4b04",
   "metadata": {},
   "outputs": [],
   "source": [
    "l2.insert(3,[455,5,6,4])"
   ]
  },
  {
   "cell_type": "code",
   "execution_count": 45,
   "id": "33d7d1e8",
   "metadata": {},
   "outputs": [
    {
     "data": {
      "text/plain": [
       "['xyz', 'ksjdh', 'pqr', [455, 5, 6, 4], 54545]"
      ]
     },
     "execution_count": 45,
     "metadata": {},
     "output_type": "execute_result"
    }
   ],
   "source": [
    "l2"
   ]
  },
  {
   "cell_type": "code",
   "execution_count": 46,
   "id": "a7544cef",
   "metadata": {},
   "outputs": [
    {
     "data": {
      "text/plain": [
       "[54545, [455, 5, 6, 4], 'pqr', 'ksjdh', 'xyz']"
      ]
     },
     "execution_count": 46,
     "metadata": {},
     "output_type": "execute_result"
    }
   ],
   "source": [
    "l2[::-1]"
   ]
  },
  {
   "cell_type": "code",
   "execution_count": 47,
   "id": "cb7f320f",
   "metadata": {},
   "outputs": [
    {
     "data": {
      "text/plain": [
       "['xyz', 'ksjdh', 'pqr', [455, 5, 6, 4], 54545]"
      ]
     },
     "execution_count": 47,
     "metadata": {},
     "output_type": "execute_result"
    }
   ],
   "source": [
    "l2"
   ]
  },
  {
   "cell_type": "code",
   "execution_count": 48,
   "id": "6c6a4769",
   "metadata": {},
   "outputs": [],
   "source": [
    "l2.reverse()"
   ]
  },
  {
   "cell_type": "code",
   "execution_count": 49,
   "id": "75170de6",
   "metadata": {},
   "outputs": [
    {
     "data": {
      "text/plain": [
       "[54545, [455, 5, 6, 4], 'pqr', 'ksjdh', 'xyz']"
      ]
     },
     "execution_count": 49,
     "metadata": {},
     "output_type": "execute_result"
    }
   ],
   "source": [
    "l2"
   ]
  },
  {
   "cell_type": "code",
   "execution_count": 50,
   "id": "5d2ac07f",
   "metadata": {},
   "outputs": [
    {
     "data": {
      "text/plain": [
       "['kishan', 'lal', 4562]"
      ]
     },
     "execution_count": 50,
     "metadata": {},
     "output_type": "execute_result"
    }
   ],
   "source": [
    "l1"
   ]
  },
  {
   "cell_type": "code",
   "execution_count": 51,
   "id": "14c91b0b",
   "metadata": {},
   "outputs": [
    {
     "data": {
      "text/plain": [
       "[54545, [455, 5, 6, 4], 'pqr', 'ksjdh', 'xyz']"
      ]
     },
     "execution_count": 51,
     "metadata": {},
     "output_type": "execute_result"
    }
   ],
   "source": [
    "l2"
   ]
  },
  {
   "cell_type": "code",
   "execution_count": 52,
   "id": "4c51b607",
   "metadata": {},
   "outputs": [
    {
     "data": {
      "text/plain": [
       "5"
      ]
     },
     "execution_count": 52,
     "metadata": {},
     "output_type": "execute_result"
    }
   ],
   "source": [
    "l2[1][1]"
   ]
  },
  {
   "cell_type": "code",
   "execution_count": 53,
   "id": "b7178a7c",
   "metadata": {},
   "outputs": [
    {
     "data": {
      "text/plain": [
       "[455, 5]"
      ]
     },
     "execution_count": 53,
     "metadata": {},
     "output_type": "execute_result"
    }
   ],
   "source": [
    "l2[1][0:2]"
   ]
  },
  {
   "cell_type": "code",
   "execution_count": 54,
   "id": "1ac0e467",
   "metadata": {},
   "outputs": [
    {
     "data": {
      "text/plain": [
       "1"
      ]
     },
     "execution_count": 54,
     "metadata": {},
     "output_type": "execute_result"
    }
   ],
   "source": [
    "l2.count('xyz')"
   ]
  },
  {
   "cell_type": "code",
   "execution_count": 55,
   "id": "81efc65d",
   "metadata": {},
   "outputs": [],
   "source": [
    "l2.append(\"sgsgsfg\")"
   ]
  },
  {
   "cell_type": "code",
   "execution_count": 56,
   "id": "55a7697c",
   "metadata": {},
   "outputs": [],
   "source": [
    "l2.append([3,8,9,6])"
   ]
  },
  {
   "cell_type": "code",
   "execution_count": 57,
   "id": "59ba9d71",
   "metadata": {},
   "outputs": [
    {
     "data": {
      "text/plain": [
       "[54545, [455, 5, 6, 4], 'pqr', 'ksjdh', 'xyz', 'sgsgsfg', [3, 8, 9, 6]]"
      ]
     },
     "execution_count": 57,
     "metadata": {},
     "output_type": "execute_result"
    }
   ],
   "source": [
    "l2"
   ]
  },
  {
   "cell_type": "code",
   "execution_count": 58,
   "id": "5f9d2f28",
   "metadata": {},
   "outputs": [
    {
     "data": {
      "text/plain": [
       "['kishan', 'lal', 4562]"
      ]
     },
     "execution_count": 58,
     "metadata": {},
     "output_type": "execute_result"
    }
   ],
   "source": [
    "l1"
   ]
  },
  {
   "cell_type": "code",
   "execution_count": 59,
   "id": "d3eebc17",
   "metadata": {},
   "outputs": [],
   "source": [
    "l1.extend([2,3,\"sdfg\"])"
   ]
  },
  {
   "cell_type": "code",
   "execution_count": 60,
   "id": "3532d2fa",
   "metadata": {},
   "outputs": [
    {
     "data": {
      "text/plain": [
       "['kishan', 'lal', 4562, 2, 3, 'sdfg']"
      ]
     },
     "execution_count": 60,
     "metadata": {},
     "output_type": "execute_result"
    }
   ],
   "source": [
    "l1"
   ]
  },
  {
   "cell_type": "code",
   "execution_count": null,
   "id": "2940c602",
   "metadata": {},
   "outputs": [],
   "source": []
  }
 ],
 "metadata": {
  "kernelspec": {
   "display_name": "Python 3 (ipykernel)",
   "language": "python",
   "name": "python3"
  },
  "language_info": {
   "codemirror_mode": {
    "name": "ipython",
    "version": 3
   },
   "file_extension": ".py",
   "mimetype": "text/x-python",
   "name": "python",
   "nbconvert_exporter": "python",
   "pygments_lexer": "ipython3",
   "version": "3.11.4"
  }
 },
 "nbformat": 4,
 "nbformat_minor": 5
}
