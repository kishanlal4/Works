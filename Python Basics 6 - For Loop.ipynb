{
 "cells": [
  {
   "cell_type": "code",
   "execution_count": 1,
   "id": "8cee2400",
   "metadata": {},
   "outputs": [],
   "source": [
    "l = [1,2,3,4,5,6,7]"
   ]
  },
  {
   "cell_type": "code",
   "execution_count": 2,
   "id": "a41d4ff3",
   "metadata": {},
   "outputs": [
    {
     "name": "stdout",
     "output_type": "stream",
     "text": [
      "1\n",
      "2\n",
      "3\n",
      "4\n",
      "5\n",
      "6\n",
      "7\n"
     ]
    }
   ],
   "source": [
    "for i in l:\n",
    "    print(i)"
   ]
  },
  {
   "cell_type": "code",
   "execution_count": 4,
   "id": "9f283ae8",
   "metadata": {},
   "outputs": [
    {
     "name": "stdout",
     "output_type": "stream",
     "text": [
      "k\n",
      "i\n",
      "s\n",
      "h\n"
     ]
    }
   ],
   "source": [
    "s = \"kish\"\n",
    "for i in s:\n",
    "    print(i)"
   ]
  },
  {
   "cell_type": "code",
   "execution_count": 5,
   "id": "4a11da13",
   "metadata": {},
   "outputs": [],
   "source": [
    "t = (1,2,3,4,5,6)"
   ]
  },
  {
   "cell_type": "code",
   "execution_count": 6,
   "id": "8490dc4a",
   "metadata": {},
   "outputs": [
    {
     "name": "stdout",
     "output_type": "stream",
     "text": [
      "1\n",
      "2\n",
      "3\n",
      "4\n",
      "5\n",
      "6\n"
     ]
    }
   ],
   "source": [
    "for i in t:\n",
    "    print(i)"
   ]
  },
  {
   "cell_type": "code",
   "execution_count": 8,
   "id": "36e2afb8",
   "metadata": {},
   "outputs": [
    {
     "name": "stdout",
     "output_type": "stream",
     "text": [
      "type of 1 is <class 'int'>\n",
      "type of 4 is <class 'int'>\n",
      "type of 5.6 is <class 'float'>\n",
      "type of 4.5j is <class 'complex'>\n",
      "type of kish is <class 'str'>\n"
     ]
    }
   ],
   "source": [
    "l=[1,4,5.6,4.5j,\"kish\"]\n",
    "for i in l:\n",
    "    print(\"type of\", i ,\"is\",type(i))"
   ]
  },
  {
   "cell_type": "code",
   "execution_count": 9,
   "id": "c10f98e8",
   "metadata": {},
   "outputs": [
    {
     "name": "stdout",
     "output_type": "stream",
     "text": [
      "3\n",
      "6\n",
      "7.6\n"
     ]
    }
   ],
   "source": [
    "l = [1,4,5.6]\n",
    "for i in l:\n",
    "    print(i+2)"
   ]
  },
  {
   "cell_type": "code",
   "execution_count": 10,
   "id": "96e98030",
   "metadata": {},
   "outputs": [
    {
     "name": "stdout",
     "output_type": "stream",
     "text": [
      "3\n",
      "6\n",
      "7.6\n"
     ]
    }
   ],
   "source": [
    "l = [1,4,5.6]\n",
    "l1 = []\n",
    "for i in l:\n",
    "    print(i+2)\n",
    "    l1.append(i+2)"
   ]
  },
  {
   "cell_type": "code",
   "execution_count": 11,
   "id": "169eb2ce",
   "metadata": {},
   "outputs": [
    {
     "data": {
      "text/plain": [
       "[3, 6, 7.6]"
      ]
     },
     "execution_count": 11,
     "metadata": {},
     "output_type": "execute_result"
    }
   ],
   "source": [
    "l1"
   ]
  },
  {
   "cell_type": "code",
   "execution_count": 15,
   "id": "2d295824",
   "metadata": {},
   "outputs": [
    {
     "name": "stdout",
     "output_type": "stream",
     "text": [
      "2\n",
      "45\n",
      "78\n",
      "12\n",
      "56\n",
      "67\n",
      "78\n",
      "11\n"
     ]
    }
   ],
   "source": [
    "l = [2,45,78,12,\"kish\",6+5j,[56,67,78,\"kish\",5+5j,11]]\n",
    "for i in l:\n",
    "    if type(i)==int:\n",
    "        print(i)\n",
    "    elif type(i)==list:\n",
    "        for j in i:\n",
    "            if type(j)==int:\n",
    "                print(j)"
   ]
  },
  {
   "cell_type": "code",
   "execution_count": 23,
   "id": "2bf19f6e",
   "metadata": {},
   "outputs": [
    {
     "name": "stdout",
     "output_type": "stream",
     "text": [
      "index of 2 is 0\n",
      "square of 2 is 4\n",
      "index of 45 is 1\n",
      "square of 45 is 2025\n",
      "index of 78 is 2\n",
      "square of 78 is 6084\n",
      "index of 12 is 3\n",
      "square of 12 is 144\n",
      "index of kish is 4\n",
      "k\n",
      "i\n",
      "s\n",
      "h\n",
      "index of (6+5j) is 5\n",
      "index of [56, 67, 78, 'kish', (5+5j), 11] is 6\n"
     ]
    }
   ],
   "source": [
    "l = [2,45,78,12,\"kish\",6+5j,[56,67,78,\"kish\",5+5j,11]]\n",
    "for i in l:\n",
    "    print(\"index of\",i,\"is\",l.index(i))\n",
    "    if type(i)==str:\n",
    "        for j in i:\n",
    "            print(j)\n",
    "    if type(i) ==int:\n",
    "        print(\"square of\",i,\"is\",i**2)"
   ]
  },
  {
   "cell_type": "code",
   "execution_count": 27,
   "id": "6e889b84",
   "metadata": {},
   "outputs": [
    {
     "name": "stdout",
     "output_type": "stream",
     "text": [
      "index is 0 for element 2\n",
      "index is 1 for element 45\n",
      "index is 2 for element 78\n",
      "index is 3 for element 12\n",
      "index is 4 for element 12\n",
      "index is 5 for element 12\n",
      "index is 6 for element 12\n",
      "index is 7 for element kish\n",
      "index is 8 for element (6+5j)\n",
      "index is 9 for element [56, 67, 78, 'kish', (5+5j), 11]\n"
     ]
    }
   ],
   "source": [
    "l = [2,45,78,12,12,12,12,\"kish\",6+5j,[56,67,78,\"kish\",5+5j,11]]\n",
    "for i in range(len(l)):\n",
    "    print(\"index is\",i,\"for element\",l[i])"
   ]
  },
  {
   "cell_type": "code",
   "execution_count": 28,
   "id": "89981498",
   "metadata": {},
   "outputs": [
    {
     "name": "stdout",
     "output_type": "stream",
     "text": [
      "(0, 2)\n",
      "(1, 45)\n",
      "(2, 78)\n",
      "(3, 12)\n",
      "(4, 12)\n",
      "(5, 12)\n",
      "(6, 12)\n",
      "(7, 'kish')\n",
      "(8, (6+5j))\n",
      "(9, [56, 67, 78, 'kish', (5+5j), 11])\n"
     ]
    }
   ],
   "source": [
    "for i in enumerate(l):\n",
    "    print(i)"
   ]
  },
  {
   "cell_type": "code",
   "execution_count": null,
   "id": "80b91287",
   "metadata": {},
   "outputs": [],
   "source": [
    "2:19"
   ]
  }
 ],
 "metadata": {
  "kernelspec": {
   "display_name": "Python 3 (ipykernel)",
   "language": "python",
   "name": "python3"
  },
  "language_info": {
   "codemirror_mode": {
    "name": "ipython",
    "version": 3
   },
   "file_extension": ".py",
   "mimetype": "text/x-python",
   "name": "python",
   "nbconvert_exporter": "python",
   "pygments_lexer": "ipython3",
   "version": "3.11.4"
  }
 },
 "nbformat": 4,
 "nbformat_minor": 5
}
